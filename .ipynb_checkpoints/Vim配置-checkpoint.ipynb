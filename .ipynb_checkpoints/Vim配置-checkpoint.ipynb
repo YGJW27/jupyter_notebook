{
 "cells": [
  {
   "cell_type": "markdown",
   "metadata": {},
   "source": [
    "# .vimrc"
   ]
  },
  {
   "cell_type": "markdown",
   "metadata": {},
   "source": [
    "## 配置文件"
   ]
  },
  {
   "cell_type": "raw",
   "metadata": {},
   "source": [
    "set nocompatible              \" be iMproved, required\n",
    "filetype off                  \" required\n",
    "\n",
    "\" set the runtime path to include Vundle and initialize\n",
    "set rtp+=~/.vim/bundle/Vundle.vim\n",
    "call vundle#begin()\n",
    "\" alternatively, pass a path where Vundle should install plugins\n",
    "\"call vundle#begin('~/some/path/here')\n",
    "\n",
    "\" let Vundle manage Vundle, required\n",
    "Plugin 'VundleVim/Vundle.vim'\n",
    "\n",
    "\" All of your Plugins must be added before the following line\n",
    "call vundle#end()            \" required\n",
    "filetype plugin indent on    \" required\n",
    "\n",
    "\" Put your non-Plugin stuff after this line\n",
    "\n",
    "au BufNewFile,BufRead *.py\n",
    "\\ set tabstop=4 |\n",
    "\\ set softtabstop=4 |\n",
    "\\ set shiftwidth=4 |\n",
    "\\ set textwidth=79 |\n",
    "\\ set expandtab |\n",
    "\\ set autoindent |\n",
    "\\ set fileformat=unix\n",
    "\n",
    "Plugin 'vim-scripts/indentpython.vim'\n",
    "\n",
    "\"Flagging Unnecessary Whitespace\n",
    "highlight BadWhitespace ctermbg=red guibg=darkred\n",
    "au BufRead,BufNewFile *.py,*.pyw,*.c,*.h match BadWhitespace /\\s\\+$/\n",
    "\n",
    "set encoding=utf-8\n",
    "\n",
    "Bundle 'Valloric/YouCompleteMe'\n",
    "\n",
    "let python_highlight_all=1\n",
    "syntax on\n",
    "\n",
    "set nu\n",
    "\n",
    "Plugin 'https://github.com/bling/vim-airline'\n",
    "\n",
    "Plugin 'scrooloose/nerdtree'\n",
    "nnoremap <F3> :NERDTreeToggle<CR>\n",
    "autocmd bufenter * if (winnr(\"$\") == 1 && exists(\"b:NERDTree\") && b:NERDTree.isTabTree()) | q | endif\n",
    "Plugin 'jistr/vim-nerdtree-tabs'\n",
    "let NERDTreeIgnore=['\\.pyc$', '\\~$'] \"ignore files in NERDTree\n",
    "\n",
    "\n",
    "Plugin 'kien/rainbow_parentheses.vim'\n",
    "let g:rbpt_colorpairs = [\n",
    "                        \\ ['brown',       'RoyalBlue3'],\n",
    "                        \\ ['Darkblue',    'SeaGreen3'],\n",
    "                        \\ ['darkgray',    'DarkOrchid3'],\n",
    "                        \\ ['darkgreen',   'firebrick3'],\n",
    "                        \\ ['darkcyan',    'RoyalBlue3'],\n",
    "                        \\ ['darkred',     'SeaGreen3'],\n",
    "                        \\ ['darkmagenta', 'DarkOrchid3'],\n",
    "                        \\ ['brown',       'firebrick3'],\n",
    "                        \\ ['gray',        'RoyalBlue3'],\n",
    "                        \\ ['darkmagenta', 'DarkOrchid3'],\n",
    "                        \\ ['Darkblue',    'firebrick3'],\n",
    "                        \\ ['darkgreen',   'RoyalBlue3'],\n",
    "                        \\ ['darkcyan',    'SeaGreen3'],\n",
    "                        \\ ['darkred',     'DarkOrchid3'],\n",
    "                        \\ ['red',         'firebrick3'],\n",
    "                        \\ ]\n",
    "let g:rbpt_max = 16\n",
    "let g:rbpt_loadcmd_toggle = 0\n",
    "au VimEnter * RainbowParenthesesToggle\n",
    "au Syntax * RainbowParenthesesLoadRound\n",
    "au Syntax * RainbowParenthesesLoadSquare\n",
    "au Syntax * RainbowParenthesesLoadBraces\n",
    "\n",
    "\n",
    "Plugin 'w0rp/ale'\n",
    " let g:ale_fix_on_save = 1\n",
    " let g:ale_sign_column_always = 1\n",
    " let g:airline#extensions#ale#enabled = 1"
   ]
  },
  {
   "cell_type": "markdown",
   "metadata": {},
   "source": [
    "## 需要包的支持"
   ]
  },
  {
   "cell_type": "raw",
   "metadata": {},
   "source": [
    "pip install flake8"
   ]
  }
 ],
 "metadata": {
  "kernelspec": {
   "display_name": "Python 3",
   "language": "python",
   "name": "python3"
  },
  "language_info": {
   "codemirror_mode": {
    "name": "ipython",
    "version": 3
   },
   "file_extension": ".py",
   "mimetype": "text/x-python",
   "name": "python",
   "nbconvert_exporter": "python",
   "pygments_lexer": "ipython3",
   "version": "3.6.6+"
  }
 },
 "nbformat": 4,
 "nbformat_minor": 2
}
